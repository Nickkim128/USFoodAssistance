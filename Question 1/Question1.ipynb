{
 "cells": [
  {
   "cell_type": "markdown",
   "id": "87e07d1a",
   "metadata": {},
   "source": [
    "# Question 1"
   ]
  },
  {
   "cell_type": "markdown",
   "id": "8adf9f71",
   "metadata": {},
   "source": [
    "### Description:\n",
    "\n",
    "Is there a positive correlation  between the number of infants who are fully formula fed and the total dollar value of the rebates received by the WIC agency for each state?"
   ]
  },
  {
   "cell_type": "code",
   "execution_count": 2,
   "id": "a028f62b",
   "metadata": {},
   "outputs": [],
   "source": [
    "# Run this code cell to import relevant libraries\n",
    "\n",
    "import numpy as np\n",
    "import pandas as pd\n",
    "import seaborn as sns\n",
    "import re"
   ]
  },
  {
   "cell_type": "code",
   "execution_count": 3,
   "id": "c570ceb6",
   "metadata": {},
   "outputs": [],
   "source": [
    "# Import data sets here\n",
    "\n",
    "# 2013\n",
    "infants_fully_formula_13 = pd.read_csv(\"../US_Public_Food_Assitance/WICAgencies2013ytd/Infants_Fully_Formula-fed.csv\")\n",
    "rebates_received_13 = pd.read_csv(\"../US_Public_Food_Assitance/WICAgencies2013ytd/Rebates_Received.csv\")\n",
    "\n",
    "# 2014\n",
    "infants_fully_formula_14 = pd.read_csv(\"../US_Public_Food_Assitance/WICAgencies2014ytd/Infants_Fully_Formula-fed.csv\")\n",
    "rebates_received_14 = pd.read_csv(\"../US_Public_Food_Assitance/WICAgencies2014ytd/Rebates_Received.csv\")\n",
    "\n",
    "# 2015\n",
    "infants_fully_formula_15 = pd.read_csv(\"../US_Public_Food_Assitance/WICAgencies2015ytd/Infants_Fully_Formula-fed.csv\")\n",
    "rebates_received_15 = pd.read_csv(\"../US_Public_Food_Assitance/WICAgencies2015ytd/Rebates_Received.csv\")\n",
    "\n",
    "# 2016\n",
    "infants_fully_formula_16 = pd.read_csv(\"../US_Public_Food_Assitance/WICAgencies2016ytd/Infants_Fully_Formula-fed.csv\")\n",
    "rebates_received_16 = pd.read_csv(\"../US_Public_Food_Assitance/WICAgencies2016ytd/Rebates_Received.csv\")"
   ]
  },
  {
   "cell_type": "code",
   "execution_count": 16,
   "id": "7c860f7d",
   "metadata": {},
   "outputs": [
    {
     "data": {
      "text/plain": [
       "<seaborn.axisgrid.FacetGrid at 0x1e361cb6088>"
      ]
     },
     "execution_count": 16,
     "metadata": {},
     "output_type": "execute_result"
    },
    {
     "data": {
      "image/png": "[encoded data removed]",
      "text/plain": [
       "<Figure size 421.5x360 with 1 Axes>"
      ]
     },
     "metadata": {
      "needs_background": "light"
     },
     "output_type": "display_data"
    }
   ],
   "source": [
    "# Plotting the relationship for total number of infants fully formula-fed vs the total amount of rebates \n",
    "# for each month between 2013 to 2016\n",
    "\n",
    "# 2013\n",
    "query = re.compile('[0-9]+-[0-9]+-[0-9]+ [0:]+')\n",
    "cols = re.findall(query, \" \".join(infants_fully_formula_13.head().columns))\n",
    "infant_sum_13 = infants_fully_formula_13[cols].sum()\n",
    "rebate_sum_13 = rebates_received_13[cols].sum()\n",
    "data_13 = pd.DataFrame()\n",
    "data_13['infants'] = infant_sum_13\n",
    "data_13['rebates'] = rebate_sum_13\n",
    "data_13['year'] = ['2013']*len(data_13)\n",
    "data_13 = data_13.reset_index(level=0)\n",
    "data_13 = data_13.rename(columns={\"index\" : \"date\"})\n",
    "\n",
    "# 2014\n",
    "query = re.compile('[0-9]+-[0-9]+-[0-9]+ [0:]+')\n",
    "cols = re.findall(query, \" \".join(infants_fully_formula_14.head().columns))\n",
    "infant_sum_14 = infants_fully_formula_14[cols].sum()\n",
    "rebate_sum_14 = rebates_received_14[cols].sum()\n",
    "data_14 = pd.DataFrame()\n",
    "data_14['infants'] = infant_sum_14\n",
    "data_14['rebates'] = rebate_sum_14\n",
    "data_14['year'] = ['2014']*len(data_14)\n",
    "data_14 = data_14.reset_index(level=0)\n",
    "data_14 = data_14.rename(columns={\"index\" : \"date\"})\n",
    "\n",
    "# 2015\n",
    "query = re.compile('[0-9]+-[0-9]+-[0-9]+ [0:]+')\n",
    "cols = re.findall(query, \" \".join(infants_fully_formula_15.head().columns))\n",
    "infant_sum_15 = infants_fully_formula_15[cols].sum()\n",
    "rebate_sum_15 = rebates_received_15[cols].sum()\n",
    "data_15 = pd.DataFrame()\n",
    "data_15['infants'] = infant_sum_15\n",
    "data_15['rebates'] = rebate_sum_15\n",
    "data_15['year'] = ['2015']*len(data_15)\n",
    "data_15 = data_15.reset_index(level=0)\n",
    "data_15 = data_15.rename(columns={\"index\" : \"date\"})\n",
    "\n",
    "\n",
    "# 2016\n",
    "query = re.compile('[0-9]+-[0-9]+-[0-9]+ [0:]+')\n",
    "cols = re.findall(query, \" \".join(infants_fully_formula_16.head().columns))\n",
    "infant_sum_16 = infants_fully_formula_16[cols].sum()\n",
    "rebate_sum_16 = rebates_received_16[cols].sum()\n",
    "data_16 = pd.DataFrame()\n",
    "data_16['infants'] = infant_sum_16\n",
    "data_16['rebates'] = rebate_sum_16\n",
    "data_16['year'] = ['2016']*len(data_16)\n",
    "data_16 = data_16.reset_index(level=0)\n",
    "data_16 = data_16.rename(columns={\"index\" : \"date\"})\n",
    "\n",
    "# Merge\n",
    "data_13_16 = pd.concat([data_13,data_14,data_15,data_16])\n",
    "\n",
    "sns.relplot(x='infants', y='rebates', data=data_13_16, hue='year', style='year')"
   ]
  },
  {
   "cell_type": "code",
   "execution_count": null,
   "id": "d68459bc",
   "metadata": {},
   "outputs": [],
   "source": []
  }
 ],
 "metadata": {
  "kernelspec": {
   "display_name": "Python 3 (ipykernel)",
   "language": "python",
   "name": "python3"
  },
  "language_info": {
   "codemirror_mode": {
    "name": "ipython",
    "version": 3
   },
   "file_extension": ".py",
   "mimetype": "text/x-python",
   "name": "python",
   "nbconvert_exporter": "python",
   "pygments_lexer": "ipython3",
   "version": "3.7.11"
  }
 },
 "nbformat": 4,
 "nbformat_minor": 5
}
