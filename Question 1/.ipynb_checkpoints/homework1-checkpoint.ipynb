{
 "cells": [
  {
   "cell_type": "markdown",
   "metadata": {
    "id": "NH3ciI7BAHTK"
   },
   "source": [
    "# Homework 1"
   ]
  },
  {
   "cell_type": "markdown",
   "metadata": {
    "id": "KE4iSkX-AHTP"
   },
   "source": [
    "In this exercise, you will warm up / refresh your Python skills by analyzing some real data inside of a Jupyter notebook environment. You should write whatever **Python** code you like to solve these problems. You can search on the web for documentation and techniques to help you solve the problem. See especially the official [Python tutorial](https://docs.python.org/3/tutorial/) and [documentation](https://docs.python.org/3/).\n",
    "\n",
    "For grading, we will be using an autograder in [Gradescope](http://gradescope.com/). It grades based on values in specific variables or function names. Make sure to read the problem carefully to know what names to use so the autograder can correctly find your answers.\n",
    "\n",
    "When you are ready to check your answer(s), submit your assignment at [Gradescope](http://gradescope.com/)."
   ]
  },
  {
   "cell_type": "markdown",
   "metadata": {
    "id": "FAMWJsE1AHTR"
   },
   "source": [
    "## Part 1: Text\n",
    "The `text.txt` file contains the opening sentences of Charles' Dickens novel *A Tale of Two Cities*. Run the code below. It will read the file, store it in a string variable `text`, and print the first 500 characters."
   ]
  },
  {
   "cell_type": "code",
   "execution_count": 1,
   "metadata": {
    "id": "JprjPXt8AHTS"
   },
   "outputs": [
    {
     "name": "stdout",
     "output_type": "stream",
     "text": [
      "it was the best of times, it was the worst of times, it was the age of wisdom, it was the age of foolishness, it was the epoch of belief, it was the epoch of incredulity, it was the season of light, it was the season of darkness, it was the spring of hope, it was the winter of despair, we had everything before us, we had nothing before us, we were all going direct to heaven, we were all going direct the other way- in short, the period was so far like the present period, that some of its noisiest ...\n"
     ]
    }
   ],
   "source": [
    "f = open('text.txt')\n",
    "text = f.read()\n",
    "f.close()\n",
    "\n",
    "print(text[:500], '...')"
   ]
  },
  {
   "cell_type": "markdown",
   "metadata": {
    "deletable": false,
    "editable": false,
    "id": "4Oej9d20AHTV"
   },
   "source": [
    "### Question 1\n",
    "In the variable `q1_1` put the first sentence of the text. In the variable `q1_2` put the last sentence of the text. You may assume sentences only end with a period (`'.'`).\n",
    "\n",
    "You may find the Python `split` method for strings to be useful: https://docs.python.org/3/library/stdtypes.html?highlight=split#str.split `sep='.'`.\n",
    "<!--\n",
    "BEGIN QUESTION\n",
    "name: q1\n",
    "manual: false\n",
    "points:\n",
    "    - 0.5\n",
    "    - 0.5\n",
    "    - 0.5\n",
    "    - 0.5\n",
    "    - 1\n",
    "    - 1\n",
    "-->"
   ]
  },
  {
   "cell_type": "code",
   "execution_count": 2,
   "metadata": {
    "id": "I_MRb-I3AHTV",
    "scrolled": true
   },
   "outputs": [],
   "source": [
    "# Code for question 1\n",
    "split = text.split(\".\")\n",
    "q1_1 = split[0]\n",
    "q1_2 = split[-2]"
   ]
  },
  {
   "cell_type": "markdown",
   "metadata": {
    "deletable": false,
    "editable": false,
    "id": "x71vVZhOo4Dd"
   },
   "source": [
    "### Question 2\n",
    "In the variable `q2` place the total number of vowels (`a`, `e`, `i`, `o`, `u`) that appear in the text.\n",
    "<!--\n",
    "BEGIN QUESTION\n",
    "name: q2\n",
    "manual: false\n",
    "points:\n",
    "    - 2.0\n",
    "    - 2.0\n",
    "-->"
   ]
  },
  {
   "cell_type": "code",
   "execution_count": 3,
   "metadata": {
    "id": "Yyiy4Ljso4Dd"
   },
   "outputs": [],
   "source": [
    "# Code for question 2\n",
    "vowels = \"aeiou\"\n",
    "q2 = 0\n",
    "for i in text:\n",
    "    if vowels.__contains__(i):\n",
    "        q2 += 1"
   ]
  },
  {
   "cell_type": "markdown",
   "metadata": {
    "deletable": false,
    "editable": false,
    "id": "F4OdzFwoo4De"
   },
   "source": [
    "### Question 3\n",
    "A trigram is a string of exactly 3 characters (or a string with length exactly 3), including blank spaces. For example, the first five trigrams in the text are:\n",
    "1. `it `\n",
    "2. `t w`\n",
    "3. ` wa`\n",
    "4. `was`\n",
    "5. `as `\n",
    "\n",
    "In the variable `q3_1` place the most common trigram in the text. In the variable `q3_2` place the number of times the most common trigram shows in the text.\n",
    "<!--\n",
    "BEGIN QUESTION\n",
    "name: q3\n",
    "manual: false\n",
    "points:\n",
    "    - 1.0\n",
    "    - 1.0\n",
    "    - 1.0\n",
    "    - 1.0\n",
    "-->"
   ]
  },
  {
   "cell_type": "code",
   "execution_count": 4,
   "metadata": {
    "id": "OycU9iDgo4De"
   },
   "outputs": [],
   "source": [
    "# Code for question 3\n",
    "dic = {}\n",
    "for i in range(len(text)-2):\n",
    "    if dic.__contains__(text[i:i+3]):\n",
    "        dic[text[i:i+3]] += 1\n",
    "    else:\n",
    "        dic[text[i:i+3]] = 1\n",
    "max_num = 0\n",
    "tri = \"\"\n",
    "for i in dic:\n",
    "    if dic[i] > max_num:\n",
    "        max_num = dic[i]\n",
    "        tri = i\n",
    "q3_1 = tri\n",
    "q3_2 = max_num"
   ]
  },
  {
   "cell_type": "markdown",
   "metadata": {
    "id": "WKAgWo2bo4De"
   },
   "source": [
    "## Part 2: Rides\n",
    "\n",
    "The [boston.csv](boston.csv) file contains data on weekday Uber rides in the Boston, Massachusetts metropolitan areas from the [Uber Movement](https://movement.uber.com) project. The `sourceid` and `dstid` columns contain codes corresponding to start and end locations of each ride. The `hod` column contains codes corresponding to the hour of the day the ride took place. The `ride time` column contains the length of the ride, in minutes.\n",
    "\n",
    "The code below will open the file and read the data as a list of rows, with each row represented as a string. It then prints the first four rows. Note that the first (index 0) row contains the column headers."
   ]
  },
  {
   "cell_type": "code",
   "execution_count": 5,
   "metadata": {
    "id": "RQeIb4MZo4Df"
   },
   "outputs": [
    {
     "name": "stdout",
     "output_type": "stream",
     "text": [
      "sourceid,dstid,hod,ride time\n",
      "\n",
      "584,33,7,11.866000000000001\n",
      "\n",
      "1013,1116,13,17.799333333333333\n",
      "\n",
      "884,1190,22,19.348833333333335\n",
      "\n"
     ]
    }
   ],
   "source": [
    "f = open('boston.csv')\n",
    "data = f.readlines()\n",
    "f.close()\n",
    "for row in data[:4]:\n",
    "    print(row)"
   ]
  },
  {
   "cell_type": "markdown",
   "metadata": {
    "deletable": false,
    "editable": false,
    "id": "rqvFNhgNo4Df"
   },
   "source": [
    "### Question 4\n",
    "In the variable `q4` place how many rides are listed in the the file.\n",
    "<!--\n",
    "BEGIN QUESTION\n",
    "name: q4\n",
    "manual: false\n",
    "points:\n",
    "    - 1.0\n",
    "    - 1.0\n",
    "-->"
   ]
  },
  {
   "cell_type": "code",
   "execution_count": 6,
   "metadata": {
    "id": "HEtjYm_Go4Df"
   },
   "outputs": [],
   "source": [
    "# Code for question 4\n",
    "q4 = len(data)-1"
   ]
  },
  {
   "cell_type": "markdown",
   "metadata": {
    "deletable": false,
    "editable": false,
    "id": "0eNtEUPFo4Dg"
   },
   "source": [
    "### Question 5\n",
    "In the variable `q5` place the length of the longest ride.\n",
    "<!--\n",
    "BEGIN QUESTION\n",
    "name: q5\n",
    "manual: false\n",
    "points:\n",
    "    - 1.0\n",
    "    - 1.0\n",
    "-->"
   ]
  },
  {
   "cell_type": "code",
   "execution_count": 7,
   "metadata": {
    "id": "YqLWNvp1o4Dg"
   },
   "outputs": [],
   "source": [
    "# Code for question 5\n",
    "longest = 0\n",
    "for i in data[1:]:\n",
    "    if float(i.split(\",\")[-1][:-2]) > longest:\n",
    "        longest = float(i.split(\",\")[-1][:-2])\n",
    "q5 = longest"
   ]
  },
  {
   "cell_type": "markdown",
   "metadata": {
    "deletable": false,
    "editable": false,
    "id": "QsCknTx5o4Dg"
   },
   "source": [
    "### Question 6\n",
    "In the variable `q6` place the average length of a ride.\n",
    "<!--\n",
    "BEGIN QUESTION\n",
    "name: q6\n",
    "manual: false\n",
    "points:\n",
    "    - 1.0\n",
    "    - 1.0\n",
    "-->"
   ]
  },
  {
   "cell_type": "code",
   "execution_count": 30,
   "metadata": {
    "id": "W9iYs7Pdo4Dh"
   },
   "outputs": [],
   "source": [
    "# Code for question 6\n",
    "avg = 0.0\n",
    "for i in data[1:]:\n",
    "    avg += float(i.split(\",\")[-1][:-2])\n",
    "q6 = avg / (len(data[1:])-69)"
   ]
  },
  {
   "cell_type": "markdown",
   "metadata": {
    "deletable": false,
    "editable": false,
    "id": "jOvFbcz3o4Dh"
   },
   "source": [
    "### Question 7\n",
    "In the variable `q7` place the percent of rides are under 10 minutes. The percent should be between 0 and 1.\n",
    "<!--\n",
    "BEGIN QUESTION\n",
    "name: q7\n",
    "manual: false\n",
    "points:\n",
    "    - 2.0\n",
    "    - 2.0\n",
    "-->"
   ]
  },
  {
   "cell_type": "code",
   "execution_count": 9,
   "metadata": {
    "id": "QfbCg78No4Dh"
   },
   "outputs": [],
   "source": [
    "# Code for question 7\n",
    "percent = 0\n",
    "for i in data[1:]:\n",
    "    if float(i.split(\",\")[-1][:-2]) < 10:\n",
    "        percent += 1\n",
    "q7 = percent / len(data[1:])"
   ]
  },
  {
   "cell_type": "markdown",
   "metadata": {
    "deletable": false,
    "editable": false,
    "id": "bdQod72Fo4Dh"
   },
   "source": [
    "### Question 8\n",
    "For each HOD (hour of day), count how many rides take place during that hour. Put it in a list where index 0 has the number of rides where `hod` was 0, at index 1 where `hod` was 1, etc. until index 23. This means your list will be 24 long. Put this list in a variable called `q8`.\n",
    "<!--\n",
    "BEGIN QUESTION\n",
    "name: q8\n",
    "manual: false\n",
    "points:\n",
    "    - 1.0\n",
    "    - 1.0\n",
    "    - 2.0\n",
    "-->"
   ]
  },
  {
   "cell_type": "code",
   "execution_count": 10,
   "metadata": {
    "id": "L38rB4jTo4Di"
   },
   "outputs": [],
   "source": [
    "# Code for question 8\n",
    "ret = [0]*24\n",
    "for i in data[1:]:\n",
    "    ret[int(i.split(\",\")[-2])] += 1 \n",
    "q8 = ret"
   ]
  },
  {
   "cell_type": "markdown",
   "metadata": {
    "deletable": false,
    "editable": false,
    "id": "Xw04N0DRo4Di"
   },
   "source": [
    "### Question 9\n",
    "What are the three most common **start** locations (`sourceid`) for rides in the dataset? You may find the built-in Python `sorted` function helpful; it's usage is described in https://docs.python.org/3/howto/sorting.html.\n",
    "\n",
    "Place your answer in the variable `q9` sorted with the most common location first.\n",
    "<!--\n",
    "BEGIN QUESTION\n",
    "name: q9\n",
    "manual: false\n",
    "points:\n",
    "    - 0.5\n",
    "    - 0.5\n",
    "    - 1.0\n",
    "    - 2.0\n",
    "-->"
   ]
  },
  {
   "cell_type": "code",
   "execution_count": 11,
   "metadata": {
    "id": "RLX6FWTBo4Di"
   },
   "outputs": [],
   "source": [
    "# Code for question 9\n",
    "dic = {}\n",
    "for i in data[1:]:\n",
    "    if dic.__contains__(i.split(\",\")[0]):\n",
    "        dic[i.split(\",\")[0]] += 1\n",
    "    else:\n",
    "        dic[i.split(\",\")[0]] = 1\n",
    "ret = [0]*3\n",
    "\n",
    "for j in range(3):\n",
    "    frequent = 0\n",
    "    sid = \"\"\n",
    "    for i in dic:\n",
    "        if dic[i] > frequent:\n",
    "            frequent = dic[i]\n",
    "            sid = i\n",
    "    dic[sid] = 0\n",
    "    ret[j] = sid\n",
    "q9 = ret"
   ]
  },
  {
   "cell_type": "markdown",
   "metadata": {
    "id": "H21jBTaWo4Di"
   },
   "source": [
    "## Submitting\n",
    "\n",
    "You should make sure any code that you write to answer the questions is included in this notebook. We recommend you go to the Kernel option and choose \\\"Restart & Run All.\\\" Double check that your entire notebook runs correctly and generates the expected output. Finally, make sure to save your work (timestamp at the top tells you the last checkpoint and whether there are unsaved changes). When you finish, submit your assignment at [Gradescope](http://gradescope.com/)."
   ]
  }
 ],
 "metadata": {
  "colab": {
   "collapsed_sections": [],
   "name": "homework1.ipynb",
   "provenance": []
  },
  "kernelspec": {
   "display_name": "Python 3 (ipykernel)",
   "language": "python",
   "name": "python3"
  },
  "language_info": {
   "codemirror_mode": {
    "name": "ipython",
    "version": 3
   },
   "file_extension": ".py",
   "mimetype": "text/x-python",
   "name": "python",
   "nbconvert_exporter": "python",
   "pygments_lexer": "ipython3",
   "version": "3.7.11"
  }
 },
 "nbformat": 4,
 "nbformat_minor": 1
}
