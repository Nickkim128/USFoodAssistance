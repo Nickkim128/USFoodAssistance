{
 "cells": [
  {
   "cell_type": "markdown",
   "id": "e6c2adf9",
   "metadata": {},
   "source": [
    "# Question 2 \n",
    "\n",
    "This notebook specifically investigates our second research questions: How have the different regional offices of SNAP performed over time in terms of their expenditure per person relative to the changing poverty rates of their associated states?"
   ]
  },
  {
   "cell_type": "code",
   "execution_count": 2,
   "id": "3ce1ad4b",
   "metadata": {},
   "outputs": [],
   "source": [
    "import seaborn as sns\n",
    "import pandas as pd\n",
    "sns.set_theme()"
   ]
  },
  {
   "cell_type": "code",
   "execution_count": null,
   "id": "dcad9af1",
   "metadata": {},
   "outputs": [],
   "source": []
  }
 ],
 "metadata": {
  "kernelspec": {
   "display_name": "Python 3 (ipykernel)",
   "language": "python",
   "name": "python3"
  },
  "language_info": {
   "codemirror_mode": {
    "name": "ipython",
    "version": 3
   },
   "file_extension": ".py",
   "mimetype": "text/x-python",
   "name": "python",
   "nbconvert_exporter": "python",
   "pygments_lexer": "ipython3",
   "version": "3.8.12"
  }
 },
 "nbformat": 4,
 "nbformat_minor": 5
}
